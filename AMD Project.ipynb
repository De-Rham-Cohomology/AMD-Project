{
  "nbformat": 4,
  "nbformat_minor": 0,
  "metadata": {
    "colab": {
      "name": "Project.ipynb",
      "provenance": [],
      "collapsed_sections": []
    },
    "kernelspec": {
      "display_name": "Python 3",
      "language": "python",
      "name": "python3"
    },
    "language_info": {
      "codemirror_mode": {
        "name": "ipython",
        "version": 3
      },
      "file_extension": ".py",
      "mimetype": "text/x-python",
      "name": "python",
      "nbconvert_exporter": "python",
      "pygments_lexer": "ipython3",
      "version": "3.8.5"
    }
  },
  "cells": [
    {
      "cell_type": "markdown",
      "metadata": {
        "id": "LtNqzRs6v0YS"
      },
      "source": [
        "# Preliminary Operations"
      ]
    },
    {
      "cell_type": "markdown",
      "metadata": {
        "id": "-o6UzpY9Mokp"
      },
      "source": [
        "In order to get started and connect to the kaggle API, I need a kaggle token for authentication in the path `./kaggle/kaggle.json`. Hence, I upload the token from my local machine and then create a new directory for it on the remote colab machine. "
      ]
    },
    {
      "cell_type": "code",
      "metadata": {
        "id": "HdP2k9Xre_ZV",
        "colab": {
          "resources": {
            "http://localhost:8080/nbextensions/google.colab/files.js": {
              "data": "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",
              "ok": true,
              "headers": [
                [
                  "content-type",
                  "application/javascript"
                ]
              ],
              "status": 200,
              "status_text": ""
            }
          },
          "base_uri": "https://localhost:8080/",
          "height": 72
        },
        "outputId": "87c770b8-233b-490c-8ddd-6b1be6ba5389"
      },
      "source": [
        "import os\n",
        "from google.colab import files\n",
        "\n",
        "if 'kaggle.json' not in os.listdir():\n",
        "  files.upload()\n",
        "\n",
        "  !mkdir ~/.kaggle\n",
        "  !cp kaggle.json ~/.kaggle/\n",
        "  !chmod 600 ~/.kaggle/kaggle.json"
      ],
      "execution_count": 1,
      "outputs": [
        {
          "output_type": "display_data",
          "data": {
            "text/html": [
              "\n",
              "     <input type=\"file\" id=\"files-8cb34cd2-f7fb-4b7e-8417-ca15c69e2ea3\" name=\"files[]\" multiple disabled\n",
              "        style=\"border:none\" />\n",
              "     <output id=\"result-8cb34cd2-f7fb-4b7e-8417-ca15c69e2ea3\">\n",
              "      Upload widget is only available when the cell has been executed in the\n",
              "      current browser session. Please rerun this cell to enable.\n",
              "      </output>\n",
              "      <script src=\"/nbextensions/google.colab/files.js\"></script> "
            ],
            "text/plain": [
              "<IPython.core.display.HTML object>"
            ]
          },
          "metadata": {
            "tags": []
          }
        },
        {
          "output_type": "stream",
          "text": [
            "Saving kaggle.json to kaggle.json\n"
          ],
          "name": "stdout"
        }
      ]
    },
    {
      "cell_type": "markdown",
      "metadata": {
        "id": "co_kjTUANaGm"
      },
      "source": [
        "Once this is done, I can proceed to download the zipped dataset and unzip it. "
      ]
    },
    {
      "cell_type": "code",
      "metadata": {
        "id": "oeWbOZAZfO0x"
      },
      "source": [
        "import kaggle\n",
        "from kaggle.api.kaggle_api_extended import KaggleApi\n",
        "\n",
        "api = KaggleApi()\n",
        "api.authenticate()"
      ],
      "execution_count": 2,
      "outputs": []
    },
    {
      "cell_type": "code",
      "metadata": {
        "id": "HaJkaLg4gz_b"
      },
      "source": [
        "import zipfile\n",
        "\n",
        "if 'Questions.csv.zip' not in os.listdir():\n",
        "  api.dataset_download_file(\"stackoverflow/stacksample\", file_name=\"Questions.csv\", path=\"./\")\n",
        "\n",
        "if 'Questions.csv' not in os.listdir():\n",
        "  with zipfile.ZipFile('Questions.csv.zip', 'r') as zipref:\n",
        "      zipref.extractall('./')"
      ],
      "execution_count": 3,
      "outputs": []
    },
    {
      "cell_type": "markdown",
      "metadata": {
        "id": "JRdZg37uN4w7"
      },
      "source": [
        "Now I can install PySpark in order to perform well-scaling operations on the dataset and make use of the Spark-Hadoop framework. "
      ]
    },
    {
      "cell_type": "code",
      "metadata": {
        "id": "PNb3flYF_G3R"
      },
      "source": [
        "%%capture\n",
        "!pip install pyspark"
      ],
      "execution_count": 4,
      "outputs": []
    },
    {
      "cell_type": "markdown",
      "metadata": {
        "id": "BW22GVghv8i_"
      },
      "source": [
        "# PySpark initialization and dataset loading"
      ]
    },
    {
      "cell_type": "markdown",
      "metadata": {
        "id": "h0538JFHnPm-"
      },
      "source": [
        "In order to handle the dataset, I start a sparkContext and a sparkSession over that context. Note that a SparkContext is unique of each runtime, but one could define multiple SparkSession objects on the same SparkContext one. "
      ]
    },
    {
      "cell_type": "code",
      "metadata": {
        "id": "rz1NlW8WxSft"
      },
      "source": [
        "import pyspark\n",
        "from pyspark import SQLContext\n",
        "from pyspark.sql import SparkSession\n",
        "\n",
        "sc = pyspark.SparkContext('local[*]')\n",
        "spark = SparkSession(sc)\n",
        "dataset_path = './Questions.csv'"
      ],
      "execution_count": 6,
      "outputs": []
    },
    {
      "cell_type": "markdown",
      "metadata": {
        "id": "BUwmZcGyOgWh"
      },
      "source": [
        "Let's load the dataset and create a `pyspark.sql.dataframe.DataFrame` out of it. A pyspark dataframe allows to work on relational tables in a more readable and optimized way (thanks to Catalyst) then using RDDs. \\\\\n",
        "As the entries listed in the file may contain escape characters, I need to specify some more options in order to read the dataset properly. "
      ]
    },
    {
      "cell_type": "code",
      "metadata": {
        "colab": {
          "base_uri": "https://localhost:8080/"
        },
        "id": "FEBRyiDYxSfv",
        "outputId": "c582e2e9-66af-44e5-84c9-5cd5af1a61d9"
      },
      "source": [
        "df  = spark.read.format('csv') \\\n",
        "                .option('header', True) \\\n",
        "                .option('multiline', True) \\\n",
        "                .option('quote', '\"') \\\n",
        "                .option('escape', '\"') \\\n",
        "                .load(dataset_path)\n",
        "df.printSchema()"
      ],
      "execution_count": 7,
      "outputs": [
        {
          "output_type": "stream",
          "text": [
            "root\n",
            " |-- Id: string (nullable = true)\n",
            " |-- OwnerUserId: string (nullable = true)\n",
            " |-- CreationDate: string (nullable = true)\n",
            " |-- ClosedDate: string (nullable = true)\n",
            " |-- Score: string (nullable = true)\n",
            " |-- Title: string (nullable = true)\n",
            " |-- Body: string (nullable = true)\n",
            "\n"
          ],
          "name": "stdout"
        }
      ]
    },
    {
      "cell_type": "markdown",
      "metadata": {
        "id": "wimRQdb_xSfy"
      },
      "source": [
        "Of the dataset above, only `Id` and `Body` are kept for further analysis. As there are no null observations (as specified on the [kaggle page](https://www.kaggle.com/stackoverflow/stacksample?select=Questions.csv), the dataset can be kept as it is. \\\\\n",
        "More, to make computations faster, I selected only a tenth of the dataset to perform the computations, sampling without replacement."
      ]
    },
    {
      "cell_type": "code",
      "metadata": {
        "colab": {
          "base_uri": "https://localhost:8080/"
        },
        "id": "MREt8ZXxmytb",
        "outputId": "a68d129d-f4f0-48ed-8e98-703498962c15"
      },
      "source": [
        "seed = 1444\n",
        "fraction = 0.1\n",
        "\n",
        "df1 = df.select(*['Id', 'Body']).sample(fraction, seed)\n",
        "\n",
        "N = df1.count()\n",
        "print('Number of sampled records: ', N)"
      ],
      "execution_count": 8,
      "outputs": [
        {
          "output_type": "stream",
          "text": [
            "Number of sampled records:  126474\n"
          ],
          "name": "stdout"
        }
      ]
    },
    {
      "cell_type": "markdown",
      "metadata": {
        "id": "iodyvJ98wDjr"
      },
      "source": [
        "# Extracting code from  text"
      ]
    },
    {
      "cell_type": "markdown",
      "metadata": {
        "id": "DClQUDH5yQOp"
      },
      "source": [
        "As this notebook is made to handle and study StackOverflow questions and that many of those questions contain code sections, it is meaningful to run a parallel analysis on the code found in a question. \\\\\n",
        "To do so, I define a udf (User Defined Function) using the `udf` decorator of PySpark. \\\\\n",
        "Note that not all of the questions contain code. \\\\"
      ]
    },
    {
      "cell_type": "code",
      "metadata": {
        "id": "X5XiA5A8xSfw"
      },
      "source": [
        "import re\n",
        "from pyspark.sql.types import StringType\n",
        "from pyspark.sql.functions import udf, col\n",
        "\n",
        "@udf(StringType())\n",
        "def find_code(text):\n",
        "  \"\"\"\n",
        "  Returns the portion of text delimited in two <code> tags\n",
        "  \"\"\"\n",
        "  codes = re.findall(re.compile(r'<code>(.+?)<\\/code>', re.DOTALL), text)\n",
        "  return ' '.join(codes) if codes is not None else ' '  \n",
        "\n",
        "@udf(StringType())\n",
        "def remove_code(text):\n",
        "  \"\"\"\n",
        "  Returns a text without sections delimited by <code> tags\n",
        "  \"\"\"\n",
        "\n",
        "  # If there is no code in the text, return the text itself\n",
        "  if not re.findall(re.compile(r'<code>(.+?)<\\/code>', re.DOTALL), text): \n",
        "    return text\n",
        "  else:\n",
        "    not_codes = re.findall(re.compile(r'^(.+?)<code>', re.DOTALL), text) \\\n",
        "              + re.findall(re.compile(r'<\\/code>(.+?)<code>', re.DOTALL), text) \\\n",
        "              + re.findall(re.compile(r'<\\/code>(?!.+<code>)(.+?)$', re.DOTALL), text)          \n",
        "    return ' '.join(not_codes) if not_codes is not None else ' '  \n",
        "\n",
        "def pre_process(df):\n",
        "  \"\"\"\n",
        "  Applies find_code and remove_code to a DataFrame\n",
        "  \"\"\"\n",
        "\n",
        "  temp = df.withColumn('Code', find_code(col('Body'))) \\\n",
        "           .withColumn('Body_temp', remove_code(col('Body'))) \n",
        "  return temp.drop('Body').withColumnRenamed('Body_temp', 'Body')"
      ],
      "execution_count": 9,
      "outputs": []
    },
    {
      "cell_type": "code",
      "metadata": {
        "colab": {
          "base_uri": "https://localhost:8080/"
        },
        "id": "VdXvivLJRmHk",
        "outputId": "fef653ad-d3c6-4187-8a19-ffdeb3aceae9"
      },
      "source": [
        "df2 = pre_process(df1)\n",
        "\n",
        "Ncode = df2.where(df2.Code != '').count()\n",
        "print(f'There are {Ncode} questions with code, out of {N}. ',\n",
        "      f'That is, {float(Ncode/N)*100:.01f}% of the whole dataset')\n",
        "\n",
        "df2.printSchema()"
      ],
      "execution_count": 10,
      "outputs": [
        {
          "output_type": "stream",
          "text": [
            "There are 93536 questions with code, out of 126474.  That is, 74.0% of the whole dataset\n",
            "root\n",
            " |-- Id: string (nullable = true)\n",
            " |-- Code: string (nullable = true)\n",
            " |-- Body: string (nullable = true)\n",
            "\n"
          ],
          "name": "stdout"
        }
      ]
    },
    {
      "cell_type": "markdown",
      "metadata": {
        "id": "DPijNNOpwIix"
      },
      "source": [
        "# Tokenization"
      ]
    },
    {
      "cell_type": "markdown",
      "metadata": {
        "id": "9QiX_uguUygu"
      },
      "source": [
        "Now I come to the interesting part of the analysis, that is to transform the textual data in such a way to be comparable. To do so, I first tokenized the `Body` and `Code` columns making use of a naive, yet fast, 1-gram tokenizer. \\\\\n",
        "Please note that code and pure textual data are tokenized in a different way. \\\\\n",
        "In order to improve the analysis, stopwords are deleted from the text. "
      ]
    },
    {
      "cell_type": "code",
      "metadata": {
        "colab": {
          "base_uri": "https://localhost:8080/"
        },
        "id": "H8BtBxUnVq44",
        "outputId": "44df0499-48e1-46cb-8e52-9d6e10f72547"
      },
      "source": [
        "import nltk\n",
        "\n",
        "nltk.download('stopwords')\n",
        "stopwords = nltk.corpus.stopwords.words('english') \\\n",
        "            + ['pre']\n"
      ],
      "execution_count": 11,
      "outputs": [
        {
          "output_type": "stream",
          "text": [
            "[nltk_data] Downloading package stopwords to /root/nltk_data...\n",
            "[nltk_data]   Unzipping corpora/stopwords.zip.\n"
          ],
          "name": "stdout"
        }
      ]
    },
    {
      "cell_type": "code",
      "metadata": {
        "id": "4niTGW6C8wRW"
      },
      "source": [
        "from pyspark.sql.types import ArrayType\n",
        "from pyspark.sql.functions import col\n",
        "\n",
        "@udf(ArrayType(elementType = StringType()))\n",
        "def code_tokenizer(text):\n",
        "  return [s for s in re.split('[^a-zA-Z.;:]', text) if len(s)>1 and not s.isdigit()]\n",
        "\n",
        "@udf(ArrayType(elementType = StringType()))\n",
        "def body_tokenizer(text):\n",
        "  return [s for s in re.split('[^a-zA-Z]', text.lower()) if len(s)>1 and not s.isdigit() and s not in stopwords]\n",
        "\n",
        "def tokenize(df):\n",
        "  \"\"\"\n",
        "  Applies code_tokenizer and body_tokenizer to a DataFrame\n",
        "  \"\"\"\n",
        "  return df.withColumn('tkBody', body_tokenizer(col('Body'))) \\\n",
        "           .withColumn('tkCode', code_tokenizer(col('Code'))) \\\n",
        "           .select(*['Id', 'tkBody', 'tkCode'])"
      ],
      "execution_count": 12,
      "outputs": []
    },
    {
      "cell_type": "code",
      "metadata": {
        "colab": {
          "base_uri": "https://localhost:8080/"
        },
        "id": "Frf4Ld0dVb5h",
        "outputId": "3cb8aa86-5f36-46dc-9fac-4563371b0866"
      },
      "source": [
        "df3 = tokenize(df2)\n",
        "df3.printSchema()"
      ],
      "execution_count": 13,
      "outputs": [
        {
          "output_type": "stream",
          "text": [
            "root\n",
            " |-- Id: string (nullable = true)\n",
            " |-- tkBody: array (nullable = true)\n",
            " |    |-- element: string (containsNull = true)\n",
            " |-- tkCode: array (nullable = true)\n",
            " |    |-- element: string (containsNull = true)\n",
            "\n"
          ],
          "name": "stdout"
        }
      ]
    },
    {
      "cell_type": "markdown",
      "metadata": {
        "id": "uGF-R70zwPmj"
      },
      "source": [
        "# Vectorization"
      ]
    },
    {
      "cell_type": "markdown",
      "metadata": {
        "id": "dovl4H16jcUq"
      },
      "source": [
        "As idf scores are costly to compute on large dataframes (as they require a global read of the dataframe), I used only `tf` in the vectorization. Although this is not best practice, it still delivers consistent results, especially because the stopwords were already deleted from the documents. "
      ]
    },
    {
      "cell_type": "code",
      "metadata": {
        "id": "Bk8YUMTwtwKy"
      },
      "source": [
        "import numpy as np\n",
        "from pyspark.sql.types import MapType, DoubleType\n",
        "from pyspark.sql.functions import col\n",
        "# Counter objects work with hashable types and are much faster than dictionaries\n",
        "# more, Counter is a subclass of dict, so every method still works\n",
        "import collections \n",
        "\n",
        "def tf(tokens):\n",
        "  c = dict(collections.Counter(tokens))\n",
        "  for k, v in c.items():\n",
        "    c[k] = float(v/len(tokens))\n",
        "  return c\n",
        "\n",
        "def drop(d, keys):\n",
        "  for k in keys:\n",
        "    d.pop(k)\n",
        "  return d\n",
        "\n",
        "def vectorize(df, columns):\n",
        "  \"\"\"\n",
        "  Vectorizes the `columns` fields of each entry of a DataFrame, then drops `columns`\n",
        "  \"\"\"\n",
        "  a = df.rdd.map(lambda row: row.asDict())\n",
        "  a = a.map(lambda d: d.update({f'vec{column}' : tf(d[column]) for column in columns} ) or d)  \n",
        "  a = a.map(lambda d: drop(d, columns))\n",
        "  return a.toDF()"
      ],
      "execution_count": 14,
      "outputs": []
    },
    {
      "cell_type": "code",
      "metadata": {
        "colab": {
          "base_uri": "https://localhost:8080/"
        },
        "id": "BfX46Qo91NZk",
        "outputId": "ae6c31fc-9473-4604-dc8e-141964212bcd"
      },
      "source": [
        "df4 = vectorize(df3, columns=['tkBody', 'tkCode'])\n",
        "df4.printSchema()"
      ],
      "execution_count": 15,
      "outputs": [
        {
          "output_type": "stream",
          "text": [
            "root\n",
            " |-- Id: string (nullable = true)\n",
            " |-- vectkBody: map (nullable = true)\n",
            " |    |-- key: string\n",
            " |    |-- value: double (valueContainsNull = true)\n",
            " |-- vectkCode: map (nullable = true)\n",
            " |    |-- key: string\n",
            " |    |-- value: double (valueContainsNull = true)\n",
            "\n"
          ],
          "name": "stdout"
        }
      ]
    },
    {
      "cell_type": "markdown",
      "metadata": {
        "id": "mBVzzxb-wSAy"
      },
      "source": [
        "# Similarity evaluation"
      ]
    },
    {
      "cell_type": "markdown",
      "metadata": {
        "id": "ZJ2KnFg8YQOo"
      },
      "source": [
        "After vectorizing the documents, finding similar pairs is a matter of defining a similarity measure and comparing. \\\\\n",
        "I first show a way to find the most similar record to a given one. \\\\"
      ]
    },
    {
      "cell_type": "code",
      "metadata": {
        "id": "Kx7a_p3xBSKm"
      },
      "source": [
        "def dot(dict1, dict2):\n",
        "  return np.array([dict1[w]*dict2[w] for w in set(dict1.keys()).intersection(set(dict2.keys()))]).sum()\n",
        "\n",
        "def norm(dict1):\n",
        "  return np.linalg.norm(np.array(tuple(dict1.values())))\n",
        "\n",
        "def cos_sim(dict1, dict2):\n",
        "  \"\"\"\n",
        "  If both dictionaries are non empty returns the similarity score. Otherwise, returns -1\n",
        "  \"\"\"\n",
        "  return float(dot(dict1, dict2) / (norm(dict1)*norm(dict2))) if len(dict1.keys())*len(dict2.keys()) > 0 else -1.0\n",
        "\n",
        "def find_record(df, id):\n",
        "  \"\"\"\n",
        "  Returns the record (assumed existing) in`df` that has the specified `id`, as a dictionary\n",
        "  \"\"\"\n",
        "  return df.where(df.Id == str(id)).take(1)[0].asDict()\n",
        "\n",
        "def hmean(x, y):\n",
        "  \"\"\"\n",
        "  To be used as a standalone function. \n",
        "  Handles non-positive values of `x` and `y`. \n",
        "  \"\"\"\n",
        "  # if any is 0, return 0\n",
        "  if x*y == 0:\n",
        "    return 0\n",
        "  # if one is positive and the other one is negative, return the positive one\n",
        "  elif x*y < 0:\n",
        "    return x if x > 0 else y \n",
        "  # if both are negative, return -1 (both negative means that a document lacks a \n",
        "  # code while the other lacks a body)\n",
        "  elif x < 0 and y < 0:\n",
        "    return -1\n",
        "  # if they are both positive, return the harmonic mean\n",
        "  else:\n",
        "    return 2/(1/x + 1/y) \n",
        "\n",
        "@udf(DoubleType())\n",
        "def udf_hmean(x, y):\n",
        "  \"\"\"\n",
        "  To be used in a DataFrame transformation\n",
        "  Handles non-positive values of `x` and `y`. \n",
        "  \"\"\"\n",
        "  # if any is 0, return 0\n",
        "  if x*y == 0:\n",
        "    return 0\n",
        "  # if one is positive and the other one is negative, return the positive one\n",
        "  elif x*y < 0:\n",
        "    return x if x > 0 else y \n",
        "  # if both are negative, return -1 (both negative means that a document lacks a \n",
        "  # code while the other lacks a body)\n",
        "  elif x < 0 and y < 0:\n",
        "    return -1\n",
        "  # if they are both positive, return the harmonic mean\n",
        "  else:\n",
        "    return 2/(1/x + 1/y) \n",
        "\n",
        "def compare_with(record, d):\n",
        "  \"\"\"\n",
        "  Computes the cosine similarity of two dictionaries\n",
        "  \"\"\"\n",
        "  a = cos_sim(record['vectkBody'], d['vectkBody'])\n",
        "  b = cos_sim(record['vectkCode'], d['vectkCode'])\n",
        "  out = {\n",
        "    'Id' : d['Id'], \n",
        "    f'BodySim_with_{record[\"Id\"]}' : a,\n",
        "    f'CodeSim_with_{record[\"Id\"]}' : b, \n",
        "    f'Similarity_with_{record[\"Id\"]}' : hmean(a, b)\n",
        "  }\n",
        "  return out\n",
        "\n",
        "def compute_similarities_with(record, df):\n",
        "  \"\"\"\n",
        "  Applies compare_with to the DataFrame\n",
        "  \"\"\"\n",
        "  r_id = record['Id']\n",
        "  return df.rdd.map(lambda row: row.asDict()) \\\n",
        "            .map(lambda d: compare_with(record, d)) \\\n",
        "            .toDF().select('Id', \n",
        "                           f'BodySim_with_{r_id}', \n",
        "                           f'CodeSim_with_{r_id}', \n",
        "                           f'Similarity_with_{r_id}')\n",
        "\n",
        "@udf(DoubleType())\n",
        "def compare(d1, d2):\n",
        "  \"\"\"\n",
        "  Returns the cosine similarity of two dictionaries\n",
        "  \"\"\"\n",
        "  return cos_sim(d1, d2)\n",
        "\n",
        "def pair_cos_sim(df):\n",
        "  \"\"\"\n",
        "  Returns a DataFrame whose entries are pair of entries of `df`. \n",
        "  Defines new columns to store similarity measures. \n",
        "  \"\"\"\n",
        "  pair_df = df.withColumnRenamed('Id', 'Id1') \\\n",
        "              .withColumnRenamed('vectkBody', 'vectkBody1') \\\n",
        "              .withColumnRenamed('vectkCode', 'vectkCode1') \\\n",
        "              .crossJoin(df.withColumnRenamed('Id', 'Id2') \\\n",
        "                           .withColumnRenamed('vectkBody', 'vectkBody2') \\\n",
        "                           .withColumnRenamed('vectkCode', 'vectkCode2')) \n",
        "  pair_df = pair_df.where(pair_df.Id1 < pair_df.Id2)\n",
        "\n",
        "  return pair_df.withColumn('BodySim', compare(col('vectkBody1'), col('vectkBody2'))) \\\n",
        "                .withColumn('CodeSim', compare(col('vectkCode1'), col('vectkCode2'))) \\\n",
        "                .withColumn('Similarity', udf_hmean(col('BodySim'), col('CodeSim'))) \\\n",
        "                .select('Id1', 'Id2', 'BodySim', 'CodeSim', 'Similarity')"
      ],
      "execution_count": 16,
      "outputs": []
    },
    {
      "cell_type": "markdown",
      "metadata": {
        "id": "SJKB_3lBwWbh"
      },
      "source": [
        "# One vs all comparison"
      ]
    },
    {
      "cell_type": "markdown",
      "metadata": {
        "id": "z_3z2IfiTeNU"
      },
      "source": [
        "I select a record to compare the others with. "
      ]
    },
    {
      "cell_type": "code",
      "metadata": {
        "id": "GEzbFnchGeWA"
      },
      "source": [
        "id = 13160\n",
        "record = find_record(df4, id)\n",
        "original = find_record(df, id)"
      ],
      "execution_count": 17,
      "outputs": []
    },
    {
      "cell_type": "code",
      "metadata": {
        "colab": {
          "base_uri": "https://localhost:8080/"
        },
        "id": "EN_5wk405rHc",
        "outputId": "3d830a47-793a-4886-a46a-3b90c96e9439"
      },
      "source": [
        "df5 = compute_similarities_with(record, df4)\n",
        "df5.printSchema()"
      ],
      "execution_count": 18,
      "outputs": [
        {
          "output_type": "stream",
          "text": [
            "root\n",
            " |-- Id: string (nullable = true)\n",
            " |-- BodySim_with_13160: double (nullable = true)\n",
            " |-- CodeSim_with_13160: double (nullable = true)\n",
            " |-- Similarity_with_13160: double (nullable = true)\n",
            "\n"
          ],
          "name": "stdout"
        }
      ]
    },
    {
      "cell_type": "markdown",
      "metadata": {
        "id": "42RZerEUTIj4"
      },
      "source": [
        "I can visualize what is the most similar record to `13160`, sorting on the `Similarity_with_13160` column in descending order. The result is record `10560310`. \\\\\n",
        "Finally, I can visualize the titles and bodies of both records to check if their similarity is reasonable. "
      ]
    },
    {
      "cell_type": "code",
      "metadata": {
        "id": "mvaquIrpTH5F"
      },
      "source": [
        "column = col(f'Similarity_with_{record[\"Id\"]}').desc()\n",
        "df6 = df5.sort(column)\n",
        "most_sim = df6.take(2)[1].asDict()"
      ],
      "execution_count": 19,
      "outputs": []
    },
    {
      "cell_type": "code",
      "metadata": {
        "colab": {
          "base_uri": "https://localhost:8080/"
        },
        "id": "yW6ENNq6VAJj",
        "outputId": "8ae0d2ed-2d86-4375-ac03-b689d16cf62f"
      },
      "source": [
        "most_sim"
      ],
      "execution_count": 20,
      "outputs": [
        {
          "output_type": "execute_result",
          "data": {
            "text/plain": [
              "{'BodySim_with_13160': 0.44539933408304455,\n",
              " 'CodeSim_with_13160': -1.0,\n",
              " 'Id': '10560310',\n",
              " 'Similarity_with_13160': 0.44539933408304455}"
            ]
          },
          "metadata": {
            "tags": []
          },
          "execution_count": 20
        }
      ]
    },
    {
      "cell_type": "code",
      "metadata": {
        "colab": {
          "base_uri": "https://localhost:8080/"
        },
        "id": "tP0EzEfHm5T7",
        "outputId": "65add8e7-a72a-4a68-af3b-68b5ea3ea5d2"
      },
      "source": [
        "id1 = record['Id']\n",
        "id2 = most_sim['Id']\n",
        "result = df.where(col('Id').isin({id1, id2})) \\\n",
        "           .rdd.map(lambda row: row.asDict()).collect()\n",
        "for d in result:\n",
        "  print(d['Id'], '\\n', d['Title'])"
      ],
      "execution_count": 21,
      "outputs": [
        {
          "output_type": "stream",
          "text": [
            "13160 \n",
            " Best practice for webservices\n",
            "10560310 \n",
            " How do I create unicode characters with variable numbers?\n"
          ],
          "name": "stdout"
        }
      ]
    },
    {
      "cell_type": "code",
      "metadata": {
        "colab": {
          "base_uri": "https://localhost:8080/"
        },
        "id": "1m4Hj6o6qz06",
        "outputId": "dcb39ba0-db47-4a4e-f9e7-4cda533487c4"
      },
      "source": [
        "a = result[0]\n",
        "print('---- Id: ', a['Id'])\n",
        "print('---- Title: ', a['Title']) \n",
        "print(a['Body'])"
      ],
      "execution_count": 22,
      "outputs": [
        {
          "output_type": "stream",
          "text": [
            "---- Id:  13160\n",
            "---- Title:  Best practice for webservices\n",
            "<p>I've created a webservice and when I want to use its methods I instantiate it in the a procedure, call the method, and I finally I dispose it, however I think also it could be okay to instantiate the webservice in the \"private void Main_Load(object sender, EventArgs e)\" event.</p>\n",
            "\n",
            "<p>The thing is that if I do it the first way I have to instantiate the webservice every time I need one of its methods but in the other way I have to keep a webservice connected all the time when I use it in a form for example. </p>\n",
            "\n",
            "<p>I would like to know which of these practices are better or if there's a much better way to do it</p>\n",
            "\n",
            "<p><strong>Strategy 1</strong></p>\n",
            "\n",
            "<pre><code>private void btnRead_Click(object sender, EventArgs e)\n",
            "{\n",
            "    try\n",
            "    {\n",
            "        //Show clock\n",
            "        this.picResult.Image = new Bitmap(pathWait);\n",
            "\n",
            "        Application.DoEvents();\n",
            "\n",
            "        //Connect to webservice\n",
            "        svc = new ForPocketPC.ServiceForPocketPC();\n",
            "        svc.Credentials = new System.Net.NetworkCredential(Settings.UserName, Settings.Password);\n",
            "        svc.AllowAutoRedirect = false;\n",
            "        svc.UserAgent = Settings.UserAgent;\n",
            "        svc.PreAuthenticate = true;\n",
            "        svc.Url = Settings.Url;\n",
            "        svc.Timeout = System.Threading.Timeout.Infinite;\n",
            "\n",
            "        svc.CallMethod();\n",
            "         ...\n",
            "    }\n",
            "    catch (Exception ex)\n",
            "    {\n",
            "        ShowError(ex);\n",
            "    }\n",
            "    finally\n",
            "    {\n",
            "        if (svc != null)\n",
            "            svc.Dispose();\n",
            "    }\n",
            "}\n",
            "</code></pre>\n",
            "\n",
            "<p><strong>Strategy 2</strong></p>\n",
            "\n",
            "<pre><code>private myWebservice svc;\n",
            "\n",
            "private void Main_Load(object sender, EventArgs e)\n",
            "{\n",
            "    //Connect to webservice\n",
            "    svc = new ForPocketPC.ServiceForPocketPC();\n",
            "    svc.Credentials = new System.Net.NetworkCredential(Settings.UserName, Settings.Password);\n",
            "    svc.AllowAutoRedirect = false;\n",
            "    svc.UserAgent = Settings.UserAgent;\n",
            "    svc.PreAuthenticate = true;\n",
            "    svc.Url = Settings.Url;\n",
            "    svc.Timeout = System.Threading.Timeout.Infinite;\n",
            "}\n",
            "\n",
            "private void btnRead_Click(object sender, EventArgs e)\n",
            "{\n",
            "    try\n",
            "    {\n",
            "        //Show clock\n",
            "        this.picResult.Image = new Bitmap(pathWait);\n",
            "\n",
            "        Application.DoEvents();\n",
            "        svc.CallMethod();\n",
            "         ...\n",
            "    }\n",
            "    catch (Exception ex)\n",
            "    {\n",
            "        ShowError(ex);\n",
            "    }\n",
            "}\n",
            "\n",
            "private void Main_Closing(object sender, CancelEventArgs e)\n",
            "{\n",
            "    svc.Dispose();\n",
            "}\n",
            "</code></pre>\n",
            "\n"
          ],
          "name": "stdout"
        }
      ]
    },
    {
      "cell_type": "code",
      "metadata": {
        "colab": {
          "base_uri": "https://localhost:8080/"
        },
        "id": "wCAyy3XqCmhQ",
        "outputId": "9c0fd3b8-267d-47d5-a960-409874e0c452"
      },
      "source": [
        "a = result[1]\n",
        "print('---- Id: ', a['Id'])\n",
        "print('---- Title: ', a['Title']) \n",
        "print(a['Body'])"
      ],
      "execution_count": 23,
      "outputs": [
        {
          "output_type": "stream",
          "text": [
            "---- Id:  10560310\n",
            "---- Title:  How do I create unicode characters with variable numbers?\n",
            "<p>Basically what I want to do is <strong>print u'\\u1001'</strong>, but I do not want the <strong>1001</strong> hardcoded. Is there a way I can use a variable or string for this? Also, it would be nice if I could retrieve this code again, when I use the output as input.</p>\n",
            "\n"
          ],
          "name": "stdout"
        }
      ]
    },
    {
      "cell_type": "markdown",
      "metadata": {
        "id": "2-SPKZQYwcpE"
      },
      "source": [
        "# All vs all comparison"
      ]
    },
    {
      "cell_type": "markdown",
      "metadata": {
        "id": "5WJJ8caU6IJP"
      },
      "source": [
        "After finding similar items to a given one, let's find the most similar pair of items in the dataset. \\\\\n",
        "To do so, I take an even smaller data sample (as there are at least `n*(n-1) / 2` similarity measurements to do, one for each pair of non identical records). "
      ]
    },
    {
      "cell_type": "code",
      "metadata": {
        "id": "ASJwEd_tpEYY"
      },
      "source": [
        "df8 = df4.sample(fraction=1e-2, seed=seed)"
      ],
      "execution_count": 24,
      "outputs": []
    },
    {
      "cell_type": "code",
      "metadata": {
        "id": "tlxCaXJUVGa4",
        "colab": {
          "base_uri": "https://localhost:8080/"
        },
        "outputId": "6396f2ce-1ecb-456e-fd9e-9f6241846db5"
      },
      "source": [
        "df9 = pair_cos_sim(df8)\n",
        "\n",
        "colOrder = col('Similarity').desc()\n",
        "dfA = df9.sort(colOrder)\n",
        "\n",
        "dfA.show()"
      ],
      "execution_count": 25,
      "outputs": [
        {
          "output_type": "stream",
          "text": [
            "+--------+--------+------------------+------------------+------------------+\n",
            "|     Id1|     Id2|           BodySim|           CodeSim|        Similarity|\n",
            "+--------+--------+------------------+------------------+------------------+\n",
            "|27293230| 6547590|0.7826237921249267|              -1.0|0.7826237921249267|\n",
            "|12022590| 6547590|0.7791278649137494|              -1.0|0.7791278649137494|\n",
            "|27419030|30286120|0.7778174593052023|              -1.0|0.7778174593052023|\n",
            "|33603060|39419400| 0.777211966942379|              -1.0| 0.777211966942379|\n",
            "|28426700| 6547590|0.7679919555800158|              -1.0|0.7679919555800158|\n",
            "|10770160|21449160|0.7658540875486514|              -1.0|0.7658540875486514|\n",
            "|30286120|33603060|0.7602631123499285|              -1.0|0.7602631123499285|\n",
            "|15821980|36147580|0.7448452997421312|              -1.0|0.7448452997421312|\n",
            "|30286120|39419400|0.7293476893416829|              -1.0|0.7293476893416829|\n",
            "|26807840|27293230|0.7219073890002342|              -1.0|0.7219073890002342|\n",
            "|10770160| 1620250|0.7200363024454735|              -1.0|0.7200363024454735|\n",
            "|25640330|30286120|0.7167432805632418|              -1.0|0.7167432805632418|\n",
            "|21058580| 6547590|0.7092081432669752|              -1.0|0.7092081432669752|\n",
            "|12022590|26807840|0.7053312434660783|              -1.0|0.7053312434660783|\n",
            "|26807840| 6547590|0.7035623639735146|              -1.0|0.7035623639735146|\n",
            "|32332430|39351520|0.6094854058562211|0.8008492768095481|0.6921845608778853|\n",
            "|25643370| 6547590|0.6885206559295218|              -1.0|0.6885206559295218|\n",
            "|10770160|36985670|0.6855513367460047|              -1.0|0.6855513367460047|\n",
            "|27745640| 6547590|0.6847958181093109|              -1.0|0.6847958181093109|\n",
            "|27251800| 6547590|0.6795077403759058|              -1.0|0.6795077403759058|\n",
            "+--------+--------+------------------+------------------+------------------+\n",
            "only showing top 20 rows\n",
            "\n"
          ],
          "name": "stdout"
        }
      ]
    },
    {
      "cell_type": "markdown",
      "metadata": {
        "id": "mgR7lGZ9we_Z"
      },
      "source": [
        "## Results"
      ]
    },
    {
      "cell_type": "code",
      "metadata": {
        "id": "hDFlJH8wM7gd",
        "colab": {
          "base_uri": "https://localhost:8080/"
        },
        "outputId": "a1ee0aa1-eaa4-4aaf-e909-5bada385bc9a"
      },
      "source": [
        "dfA.printSchema()"
      ],
      "execution_count": 26,
      "outputs": [
        {
          "output_type": "stream",
          "text": [
            "root\n",
            " |-- Id1: string (nullable = true)\n",
            " |-- Id2: string (nullable = true)\n",
            " |-- BodySim: double (nullable = true)\n",
            " |-- CodeSim: double (nullable = true)\n",
            " |-- Similarity: double (nullable = true)\n",
            "\n"
          ],
          "name": "stdout"
        }
      ]
    },
    {
      "cell_type": "markdown",
      "metadata": {
        "id": "WqAeGqDEasZA"
      },
      "source": [
        "The most similar are `27293230` and `6547590`. Let's see them "
      ]
    },
    {
      "cell_type": "code",
      "metadata": {
        "id": "qsnOD4WWazcg",
        "colab": {
          "base_uri": "https://localhost:8080/"
        },
        "outputId": "baf444f8-27bd-4881-c3d8-4cd0801afa7b"
      },
      "source": [
        "id4 = 27293230\n",
        "id5 = 6547590\n",
        "\n",
        "result1 = df.where(col('Id').isin({id4, id5})) \\\n",
        "            .rdd.map(lambda row: row.asDict()).collect()\n",
        "\n",
        "for d in result1: \n",
        "  print(d['Id'], d['Title'])"
      ],
      "execution_count": 27,
      "outputs": [
        {
          "output_type": "stream",
          "text": [
            "6547590 EditText in Google Android\n",
            "27293230 How to get index of UI?\n"
          ],
          "name": "stdout"
        }
      ]
    },
    {
      "cell_type": "code",
      "metadata": {
        "id": "uQq04OslDXLd",
        "colab": {
          "base_uri": "https://localhost:8080/"
        },
        "outputId": "d0b4f336-7609-4683-c211-f0978817d054"
      },
      "source": [
        "a = result1[0]\n",
        "print('---- Id: ', a['Id'])\n",
        "print('---- Title: ', a['Title']) \n",
        "print(a['Body'])"
      ],
      "execution_count": 28,
      "outputs": [
        {
          "output_type": "stream",
          "text": [
            "---- Id:  6547590\n",
            "---- Title:  EditText in Google Android\n",
            "<p>I want to create the <strong>EditText</strong> which allow <strong>Numeric Values</strong>, <strong>Comma</strong>  and <strong>Delete</strong> and other values are ignore.</p>\n",
            "\n",
            "<p>So How I can achieve this by programming code ?</p>\n",
            "\n",
            "<p>Thanks.</p>\n",
            "\n"
          ],
          "name": "stdout"
        }
      ]
    },
    {
      "cell_type": "code",
      "metadata": {
        "id": "Tm7sa2Yd_EzH",
        "colab": {
          "base_uri": "https://localhost:8080/"
        },
        "outputId": "009ab974-e088-42dd-b850-9c0124b17341"
      },
      "source": [
        "a = result1[1]\n",
        "print('---- Id: ', a['Id'])\n",
        "print('---- Title: ', a['Title']) \n",
        "print(a['Body'])"
      ],
      "execution_count": 29,
      "outputs": [
        {
          "output_type": "stream",
          "text": [
            "---- Id:  27293230\n",
            "---- Title:  How to get index of UI?\n",
            "<p>I want to get index of UI. I did like following, but I couldn't. Is there any way?</p>\n",
            "\n",
            "<p><strong>source:</strong></p>\n",
            "\n",
            "<pre><code>tell application \"System Events\"\n",
            "    tell process \"System Preferences\"\n",
            "        index of button 9 of scroll area 1 of window 1\n",
            "    end tell\n",
            "end tell\n",
            "</code></pre>\n",
            "\n",
            "<p><strong>result:</strong></p>\n",
            "\n",
            "<pre><code>error\n",
            "</code></pre>\n",
            "\n",
            "<p><strong>expected result:</strong></p>\n",
            "\n",
            "<pre><code>9\n",
            "</code></pre>\n",
            "\n"
          ],
          "name": "stdout"
        }
      ]
    },
    {
      "cell_type": "markdown",
      "metadata": {
        "id": "prsjvmojwt2L"
      },
      "source": [
        "## More interesting results"
      ]
    },
    {
      "cell_type": "markdown",
      "metadata": {
        "id": "EQyTcf27MBZZ"
      },
      "source": [
        "Let's now compare `32332430` and `39351520`, the pair with non-negatve similarity for both code and body"
      ]
    },
    {
      "cell_type": "code",
      "metadata": {
        "colab": {
          "base_uri": "https://localhost:8080/"
        },
        "id": "5vLozPfiMIm0",
        "outputId": "9b4cc2f5-773b-485c-903d-7e95beaa49ed"
      },
      "source": [
        "id6 = 32332430 \n",
        "id7 = 39351520\n",
        "\n",
        "result2 = df.where(col('Id').isin({id6, id7})) \\\n",
        "            .rdd.map(lambda row: row.asDict()).collect()\n",
        "\n",
        "for d in result2: \n",
        "  print(d['Id'], d['Title'])"
      ],
      "execution_count": 30,
      "outputs": [
        {
          "output_type": "stream",
          "text": [
            "32332430 Fetch array after mysqli_multiple_query() function\n",
            "39351520 some css not working\n"
          ],
          "name": "stdout"
        }
      ]
    },
    {
      "cell_type": "code",
      "metadata": {
        "colab": {
          "base_uri": "https://localhost:8080/"
        },
        "id": "0ayegTgmMd7i",
        "outputId": "b39d77b4-17b6-44d9-ac99-497490d9c88c"
      },
      "source": [
        "a = result2[0]\n",
        "print('---- Id: ', a['Id'])\n",
        "print('---- Title: ', a['Title']) \n",
        "print(a['Body'])"
      ],
      "execution_count": 31,
      "outputs": [
        {
          "output_type": "stream",
          "text": [
            "---- Id:  32332430\n",
            "---- Title:  Fetch array after mysqli_multiple_query() function\n",
            "<p>In the following statement I am trying to fetch the result of the subjects table in the widget_crop database. But I am receiving the down error message after using the mysqli_multi_query() function in order to be able to use multiple mysql queries inside my php code . How can i correct this and print the table correctly  ? </p>\n",
            "\n",
            "<pre><code>&lt;?php\n",
            "    //1.Create a database connection\n",
            "    $dbhost = \"localhost\";\n",
            "    $dbuser =\"widget_cms\";\n",
            "    $dbpass=\"12605532y\";\n",
            "    $dbname = \"widget_crop\";\n",
            "    $connection = mysqli_connect($dbhost,$dbuser,$dbpass,$dbname);\n",
            "\n",
            "    //test if connection occured\n",
            "    if(mysqli_connect_errno()){\n",
            "        die(\"Database connection failed !\".\n",
            "        mysqli_connect_error().\")\".mysqli_connect_errno().\")\"\n",
            "        );\n",
            "    }\n",
            "?&gt;\n",
            "&lt;?php\n",
            "    $menu_name = \"\\\"Edit me\\\"\";\n",
            "    $position=4;\n",
            "    $visible = 1;\n",
            "    // Often these are form values in POST\n",
            "    // 2.Perform a db query\n",
            "    $query =\"INSERT INTO \";\n",
            "    $query .=\"subjects (menu_name,position,visible) \";\n",
            "    $query .=\"VALUES($menu_name,$position,$visible);\\r\\n\";\n",
            "    $query .=\"SELECT *\";\n",
            "    $query .=\"FROM subjects \";\n",
            "    $query .=\"WHERE visible = 1 \";\n",
            "    $query .=\"ORDER BY position ASC;\";\n",
            "    echo $query;\n",
            "    $result = mysqli_multi_query($connection,$query);\n",
            "    if(!$result){\n",
            "        die(\"Database query failed !\");\n",
            "    }\n",
            "?&gt;\n",
            "&lt;!DOCTYPE html PUBLIC \"-//W3C//DTD HTML 4.01 Transitional//EN\"\n",
            "   \"http://www.w3.org/TR/html4/loose.dtd\"&gt;\n",
            "    &lt;style&gt;\n",
            "        body{\n",
            "            font-family:tahoma;\n",
            "            font-size:0.75em;\n",
            "        }\n",
            "        table{\n",
            "            border-collapse: collapse;\n",
            "        }\n",
            "        td{\n",
            "            padding-top:5px;\n",
            "            padding-bottom:5px;\n",
            "            padding-right:15px;\n",
            "            padding-left:15px;\n",
            "            background: lightblue;\n",
            "            border-color: white;\n",
            "        }\n",
            "\n",
            "    &lt;/style&gt;\n",
            "\n",
            "&lt;html lang=\"en\"&gt;\n",
            "    &lt;head&gt;\n",
            "        &lt;title&gt;untitled&lt;/title&gt;\n",
            "    &lt;/head&gt;\n",
            "    &lt;body&gt;\n",
            "    &lt;table border=\"2\"&gt;\n",
            "    &lt;?php\n",
            "    while($row = mysqli_fetch_assoc($result)){\n",
            "        // 3. Use returned Data\n",
            "            // output date from each row\n",
            "            echo \"&lt;tr&gt;\";\n",
            "            echo\"&lt;td&gt;\". $row[\"id\"] .\"&lt;/td&gt;\";\n",
            "            echo\"&lt;td&gt;\". $row[\"menu_name\"] .\"&lt;/td&gt;\";\n",
            "            echo\"&lt;td&gt;\". $row[\"position\"] .\"&lt;/td&gt;\";\n",
            "            echo\"&lt;td&gt;\". $row[\"visible\" ].\"&lt;/td&gt;\";\n",
            "            echo \"&lt;/tr&gt;\";\n",
            "    }\n",
            "    ?&gt;\n",
            "    &lt;/table&gt;\n",
            "    &lt;?php\n",
            "    // 4. release the returned data\n",
            "    mysqli_free_result($result);\n",
            "?&gt;\n",
            "&lt;/body&gt;\n",
            "&lt;/html&gt;\n",
            "&lt;?php\n",
            "    // 5. Close the connection\n",
            "    mysqli_close($connection);\n",
            "?&gt;\n",
            "</code></pre>\n",
            "\n",
            "<p>Error page </p>\n",
            "\n",
            "<p><div class=\"snippet\" data-lang=\"js\" data-hide=\"true\">\r\n",
            "<div class=\"snippet-code snippet-currently-hidden\">\r\n",
            "<pre class=\"snippet-code-html lang-html prettyprint-override\"><code>SELECT *FROM subjects WHERE visible = 1 ORDER BY position ASC;&lt;!DOCTYPE html PUBLIC \"-//W3C//DTD HTML 4.01 Transitional//EN\"\r\n",
            "   \"http://www.w3.org/TR/html4/loose.dtd\"&gt;\r\n",
            "\t&lt;style&gt;\r\n",
            "\t\tbody{\r\n",
            "\t\t\tfont-family:tahoma;\r\n",
            "\t\t\tfont-size:0.75em;\r\n",
            "\t\t}\r\n",
            "\t\ttable{\r\n",
            "\t\t\tborder-collapse: collapse;\r\n",
            "\t\t}\r\n",
            "\t\ttd{\r\n",
            "\t\t\tpadding-top:5px;\r\n",
            "\t\t\tpadding-bottom:5px;\r\n",
            "\t\t\tpadding-right:15px;\r\n",
            "\t\t\tpadding-left:15px;\r\n",
            "\t\t\tbackground: lightblue;\r\n",
            "\t\t\tborder-color: white;\r\n",
            "\t\t}\r\n",
            "\t\t\r\n",
            "\t&lt;/style&gt;\r\n",
            "\r\n",
            "&lt;html lang=\"en\"&gt;\r\n",
            "\t&lt;head&gt;\r\n",
            "\t\t&lt;title&gt;untitled&lt;/title&gt;\r\n",
            "\t&lt;/head&gt;\r\n",
            "\t&lt;body&gt;\r\n",
            "\t&lt;table border=\"2\"&gt;\r\n",
            "\t&lt;br /&gt;\r\n",
            "&lt;font size='1'&gt;&lt;table class='xdebug-error xe-warning' dir='ltr' border='1' cellspacing='0' cellpadding='1'&gt;\r\n",
            "&lt;tr&gt;&lt;th align='left' bgcolor='#f57900' colspan=\"5\"&gt;&lt;span style='background-color: #cc0000; color: #fce94f; font-size: x-large;'&gt;( ! )&lt;/span&gt; Warning: mysqli_fetch_assoc() expects parameter 1 to be mysqli_result, boolean given in C:\\wamp\\www\\lab\\databases_insert.php on line &lt;i&gt;66&lt;/i&gt;&lt;/th&gt;&lt;/tr&gt;\r\n",
            "&lt;tr&gt;&lt;th align='left' bgcolor='#e9b96e' colspan='5'&gt;Call Stack&lt;/th&gt;&lt;/tr&gt;\r\n",
            "&lt;tr&gt;&lt;th align='center' bgcolor='#eeeeec'&gt;#&lt;/th&gt;&lt;th align='left' bgcolor='#eeeeec'&gt;Time&lt;/th&gt;&lt;th align='left' bgcolor='#eeeeec'&gt;Memory&lt;/th&gt;&lt;th align='left' bgcolor='#eeeeec'&gt;Function&lt;/th&gt;&lt;th align='left' bgcolor='#eeeeec'&gt;Location&lt;/th&gt;&lt;/tr&gt;\r\n",
            "&lt;tr&gt;&lt;td bgcolor='#eeeeec' align='center'&gt;1&lt;/td&gt;&lt;td bgcolor='#eeeeec' align='center'&gt;0.0000&lt;/td&gt;&lt;td bgcolor='#eeeeec' align='right'&gt;248640&lt;/td&gt;&lt;td bgcolor='#eeeeec'&gt;{main}(  )&lt;/td&gt;&lt;td title='C:\\wamp\\www\\lab\\databases_insert.php' bgcolor='#eeeeec'&gt;..\\databases_insert.php&lt;b&gt;:&lt;/b&gt;0&lt;/td&gt;&lt;/tr&gt;\r\n",
            "&lt;tr&gt;&lt;td bgcolor='#eeeeec' align='center'&gt;2&lt;/td&gt;&lt;td bgcolor='#eeeeec' align='center'&gt;0.0130&lt;/td&gt;&lt;td bgcolor='#eeeeec' align='right'&gt;260440&lt;/td&gt;&lt;td bgcolor='#eeeeec'&gt;&lt;a href='http://www.php.net/function.mysqli-fetch-assoc' target='_new'&gt;mysqli_fetch_assoc&lt;/a&gt;\r\n",
            "(  )&lt;/td&gt;&lt;td title='C:\\wamp\\www\\lab\\databases_insert.php' bgcolor='#eeeeec'&gt;..\\databases_insert.php&lt;b&gt;:&lt;/b&gt;66&lt;/td&gt;&lt;/tr&gt;\r\n",
            "&lt;/table&gt;&lt;/font&gt;\r\n",
            "\t&lt;/table&gt;\r\n",
            "\t&lt;br /&gt;\r\n",
            "&lt;font size='1'&gt;&lt;table class='xdebug-error xe-warning' dir='ltr' border='1' cellspacing='0' cellpadding='1'&gt;\r\n",
            "&lt;tr&gt;&lt;th align='left' bgcolor='#f57900' colspan=\"5\"&gt;&lt;span style='background-color: #cc0000; color: #fce94f; font-size: x-large;'&gt;( ! )&lt;/span&gt; Warning: mysqli_free_result() expects parameter 1 to be mysqli_result, boolean given in C:\\wamp\\www\\lab\\databases_insert.php on line &lt;i&gt;80&lt;/i&gt;&lt;/th&gt;&lt;/tr&gt;\r\n",
            "&lt;tr&gt;&lt;th align='left' bgcolor='#e9b96e' colspan='5'&gt;Call Stack&lt;/th&gt;&lt;/tr&gt;\r\n",
            "&lt;tr&gt;&lt;th align='center' bgcolor='#eeeeec'&gt;#&lt;/th&gt;&lt;th align='left' bgcolor='#eeeeec'&gt;Time&lt;/th&gt;&lt;th align='left' bgcolor='#eeeeec'&gt;Memory&lt;/th&gt;&lt;th align='left' bgcolor='#eeeeec'&gt;Function&lt;/th&gt;&lt;th align='left' bgcolor='#eeeeec'&gt;Location&lt;/th&gt;&lt;/tr&gt;\r\n",
            "&lt;tr&gt;&lt;td bgcolor='#eeeeec' align='center'&gt;1&lt;/td&gt;&lt;td bgcolor='#eeeeec' align='center'&gt;0.0000&lt;/td&gt;&lt;td bgcolor='#eeeeec' align='right'&gt;248640&lt;/td&gt;&lt;td bgcolor='#eeeeec'&gt;{main}(  )&lt;/td&gt;&lt;td title='C:\\wamp\\www\\lab\\databases_insert.php' bgcolor='#eeeeec'&gt;..\\databases_insert.php&lt;b&gt;:&lt;/b&gt;0&lt;/td&gt;&lt;/tr&gt;\r\n",
            "&lt;tr&gt;&lt;td bgcolor='#eeeeec' align='center'&gt;2&lt;/td&gt;&lt;td bgcolor='#eeeeec' align='center'&gt;0.0450&lt;/td&gt;&lt;td bgcolor='#eeeeec' align='right'&gt;261072&lt;/td&gt;&lt;td bgcolor='#eeeeec'&gt;&lt;a href='http://www.php.net/function.mysqli-free-result' target='_new'&gt;mysqli_free_result&lt;/a&gt;\r\n",
            "(  )&lt;/td&gt;&lt;td title='C:\\wamp\\www\\lab\\databases_insert.php' bgcolor='#eeeeec'&gt;..\\databases_insert.php&lt;b&gt;:&lt;/b&gt;80&lt;/td&gt;&lt;/tr&gt;\r\n",
            "&lt;/table&gt;&lt;/font&gt;\r\n",
            "&lt;/body&gt;\r\n",
            "&lt;/html&gt;</code></pre>\r\n",
            "</div>\r\n",
            "</div>\r\n",
            "</p>\n",
            "\n"
          ],
          "name": "stdout"
        }
      ]
    },
    {
      "cell_type": "code",
      "metadata": {
        "colab": {
          "base_uri": "https://localhost:8080/"
        },
        "id": "tcnvvbsdMibj",
        "outputId": "def53a29-dfc9-4d2b-c2a4-2e13216693d7"
      },
      "source": [
        "a = result2[1]\n",
        "print('---- Id: ', a['Id'])\n",
        "print('---- Title: ', a['Title']) \n",
        "print(a['Body'])"
      ],
      "execution_count": 32,
      "outputs": [
        {
          "output_type": "stream",
          "text": [
            "---- Id:  39351520\n",
            "---- Title:  some css not working\n",
            "<p>So I have been following this tutorial for making a calendar widget with html, css, and js but I am stuck on the CSS not working. Did I miss something or miss-type? Where is my html/css going wrong to not end up the same final result? When I try to edit certain CSS it doesn't seem to affect the output.</p>\n",
            "\n",
            "<p>The tutorial is <a href=\"http://code.tutsplus.com/tutorials/how-to-build-a-beautiful-calendar-widget--net-12538\" rel=\"nofollow\">here</a> for reference to how it is suppose to look like.</p>\n",
            "\n",
            "<p>Here is my HTML:</p>\n",
            "\n",
            "<p><div class=\"snippet\" data-lang=\"js\" data-hide=\"false\" data-console=\"true\" data-babel=\"false\">\r\n",
            "<div class=\"snippet-code\">\r\n",
            "<pre class=\"snippet-code-css lang-css prettyprint-override\"><code>#cal {\r\n",
            "  -moz-box-shadow: 0px 3px 3px rgba(0, 0, 0, 0.25);\r\n",
            "  -webkit-box-shadow: 0px 3px 3px rgba(0, 0, 0, 0.25);\r\n",
            "  margin: 50px auto;\r\n",
            "  font: 13px/1.5\"Helvetica Neue\", Helvatica, Arial, san-serif;\r\n",
            "  display: table;\r\n",
            "}\r\n",
            "#cal .header {\r\n",
            "  cursor: default;\r\n",
            "  background: #cd310d;\r\n",
            "  background: -mozlinear-gradient(top, #b32b0c, #cd310d);\r\n",
            "  background: -webkit-gradient(linear, left top, left bottom, from(#b32b0c), to(#cd310d));\r\n",
            "  height: 34px;\r\n",
            "  position: relative;\r\n",
            "  color: #fff;\r\n",
            "  -webkit-border-top-left-radius: 5px;\r\n",
            "  -webkit-border-top-right-radius: 5px;\r\n",
            "  -moz-border-radius-topleft: 5px;\r\n",
            "  -moz-border-radius-topright: 5px;\r\n",
            "  border-top-left-radius: 5px;\r\n",
            "  border-top-right-radius: 5px;\r\n",
            "  font-weight: bold;\r\n",
            "  text-shadow: 0px -1px 0 #87260C;\r\n",
            "  text-transform: uppercase;\r\n",
            "}\r\n",
            "#cal .header span {\r\n",
            "  display: inline-block;\r\n",
            "  line-height: 34px;\r\n",
            "}\r\n",
            "#cal .header .hook {\r\n",
            "  width: 9px;\r\n",
            "  height: 28px;\r\n",
            "  position: absolute;\r\n",
            "  bottom: 60%;\r\n",
            "  border-radius: 10px;\r\n",
            "  -moz-border-radius: 10px;\r\n",
            "  -webkit-border-radius: 10px;\r\n",
            "  background: #ececec;\r\n",
            "  background: -moz-linear-gradient(right top, #fff, #827e7d);\r\n",
            "  background: -webkit-gradient(linear, right top, right bottom, from(#fff), to(#827e7d);\r\n",
            "  box-shadow: 0px -1px 2px rgba(0, 0, 0, 0.65);\r\n",
            "  -moz-box-shadow: 0px -1px 2px rgba(0, 0, 0, 0.65);\r\n",
            "  -webkit-box-shadow: 0px -1px 2px rgba(0, 0, 0, 0.65);\r\n",
            "}\r\n",
            ".right.hook {\r\n",
            "  right: 15%;\r\n",
            "}\r\n",
            ".left.hook {\r\n",
            "  left: 15%;\r\n",
            "}\r\n",
            "#cal .header .button {\r\n",
            "  width: 24px;\r\n",
            "  text-align: center;\r\n",
            "  position: absolute;\r\n",
            "}\r\n",
            "#cal .header .left.button {\r\n",
            "  left: 0;\r\n",
            "  -webkit-border-top-left-radius: 5px;\r\n",
            "  -moz-border-radius-topleft: 5px;\r\n",
            "  border-top-left-radius: 5px;\r\n",
            "  border-right: 1px solid #ae2a0c;\r\n",
            "}\r\n",
            "#cal .header .right.button {\r\n",
            "  right: 0;\r\n",
            "  top: 0;\r\n",
            "  border-left: 1px solid #ae2a0c;\r\n",
            "  -webkit-border-top-right-radius: 5px;\r\n",
            "  -moz-border-radius-topright: 5px;\r\n",
            "  border-top-right-radius: 5px;\r\n",
            "}\r\n",
            "#cal .header .button:hover {\r\n",
            "  background: -moz-linear-gradient(top, #d94215, #bb330f);\r\n",
            "  background: -webkit-gradient(linear, left top, left bottom, from (#d94215), to(#bb330f));\r\n",
            "}\r\n",
            "#cal .header .month-year {\r\n",
            "  letter-spacing: 1px;\r\n",
            "  width: 100%;\r\n",
            "  text-align: center;\r\n",
            "}\r\n",
            "#cal table {\r\n",
            "  background: #fff;\r\n",
            "  border-collapse: collapse;\r\n",
            "}\r\n",
            "#cal td {\r\n",
            "  color: #2b2b2b;\r\n",
            "  width: 30px;\r\n",
            "  height: 30px;\r\n",
            "  line-height: 30px;\r\n",
            "  text-align: center;\r\n",
            "  border: 1px solid #e6e6e6;\r\n",
            "  cursor: default;\r\n",
            "}\r\n",
            "#cal #days td {\r\n",
            "  height: 25px;\r\n",
            "  line-height: 26px;\r\n",
            "  text-transform: uppercase;\r\n",
            "  font-size: 90%;\r\n",
            "  color: #9e9e9e;\r\n",
            "}\r\n",
            "#cal #days td:not(:last-child) {\r\n",
            "  border-right: 1px solid #fff;\r\n",
            "}\r\n",
            "#cal #cal-frame td.today {\r\n",
            "  background: #ededed;\r\n",
            "  color: #8c8c8c;\r\n",
            "  box-shadow: 1px 1px 0px #fff inset;\r\n",
            "  -moz-box-shadow: 1px 1px 0px #fff inset;\r\n",
            "  -webkit-box-shadow: 1px 1px 0px #fff inset;\r\n",
            "}\r\n",
            "#cal #cal-frame td:not(.nil):hover {\r\n",
            "  color: #fff;\r\n",
            "  text-shadow: #6C1A07 0px -1px;\r\n",
            "  background: #CD310D;\r\n",
            "  background: -moz-linear-gradient(top, #b32b0c, #cd310d);\r\n",
            "  background: -webkit-gradient(linear, left top, left bottom, from(#b32b0c), to(#cd310d));\r\n",
            "  -moz-box-shadow: 0px 0px 0px;\r\n",
            "  -webkit-box-shadow: 0px 0px 0px;\r\n",
            "}\r\n",
            "#cal #cal-frame td span {\r\n",
            "  font-size: 80%;\r\n",
            "  position: relative;\r\n",
            "}\r\n",
            "#cal #cal-frame td span:first-child {\r\n",
            "  bottom: 5px;\r\n",
            "}\r\n",
            "#cal #cal-frame td span:last-child {\r\n",
            "  top: 5px;\r\n",
            "}\r\n",
            "#cal #cal-frame table.curr {\r\n",
            "  float: left;\r\n",
            "}\r\n",
            "#cal #cal-frame table.temp {\r\n",
            "  position: absolute;\r\n",
            "}</code></pre>\r\n",
            "<pre class=\"snippet-code-html lang-html prettyprint-override\"><code>&lt;div id=\"cal\"&gt;\r\n",
            "  &lt;div class=\"header\"&gt;\r\n",
            "    &lt;span class=\"left button\" id=\"prev\"&gt; &amp;lang; &lt;/span&gt; \r\n",
            "    &lt;span class=\"left hook\"&gt;&lt;/span&gt; \r\n",
            "    &lt;span class=\"month-year\" id=\"label\"&gt; June 2010 &lt;/span&gt; \r\n",
            "    &lt;span class=\"right hook\"&gt;&lt;/span&gt; \r\n",
            "    &lt;span class=\"right button\" id=\"next\"&gt; &amp;rang; &lt;/span&gt;\r\n",
            "  &lt;/div&gt;\r\n",
            "  &lt;table id=\"days\"&gt;\r\n",
            "    &lt;tr&gt;\r\n",
            "      &lt;td&gt;sun&lt;/td&gt;\r\n",
            "      &lt;td&gt;mon&lt;/td&gt;\r\n",
            "      &lt;td&gt;tue&lt;/td&gt;\r\n",
            "      &lt;td&gt;wed&lt;/td&gt;\r\n",
            "      &lt;td&gt;fri&lt;/td&gt;\r\n",
            "      &lt;td&gt;sat&lt;/td&gt;\r\n",
            "    &lt;/tr&gt;\r\n",
            "  &lt;/table&gt;\r\n",
            "  &lt;div id=\"cal-frame\"&gt;\r\n",
            "    &lt;table class=\"curr\"&gt;\r\n",
            "      &lt;tbody&gt;\r\n",
            "        &lt;tr&gt;\r\n",
            "          &lt;td class=\"nil\"&gt;&lt;/td&gt;\r\n",
            "          &lt;td class=\"nil\"&gt;&lt;/td&gt;\r\n",
            "          &lt;td&gt;1&lt;/td&gt;\r\n",
            "          &lt;td&gt;2&lt;/td&gt;\r\n",
            "          &lt;td&gt;3&lt;/td&gt;\r\n",
            "          &lt;td&gt;4&lt;/td&gt;\r\n",
            "          &lt;td&gt;5&lt;/td&gt;\r\n",
            "        &lt;/tr&gt;\r\n",
            "        &lt;tr&gt;\r\n",
            "          &lt;td&gt;6&lt;/td&gt;\r\n",
            "          &lt;td&gt;7&lt;/td&gt;\r\n",
            "          &lt;td&gt;8&lt;/td&gt;\r\n",
            "          &lt;td&gt;9&lt;/td&gt;\r\n",
            "          &lt;td&gt;10&lt;/td&gt;\r\n",
            "          &lt;td class=\"today\"&gt;11&lt;/td&gt;\r\n",
            "          &lt;td&gt;12&lt;/td&gt;\r\n",
            "        &lt;/tr&gt;\r\n",
            "        &lt;tr&gt;\r\n",
            "          &lt;td&gt;13&lt;/td&gt;\r\n",
            "          &lt;td&gt;14&lt;/td&gt;\r\n",
            "          &lt;td&gt;15&lt;/td&gt;\r\n",
            "          &lt;td&gt;16&lt;/td&gt;\r\n",
            "          &lt;td&gt;17&lt;/td&gt;\r\n",
            "          &lt;td&gt;18&lt;/td&gt;\r\n",
            "          &lt;td&gt;19&lt;/td&gt;\r\n",
            "        &lt;/tr&gt;\r\n",
            "        &lt;tr&gt;\r\n",
            "          &lt;td&gt;20&lt;/td&gt;\r\n",
            "          &lt;td&gt;21&lt;/td&gt;\r\n",
            "          &lt;td&gt;22&lt;/td&gt;\r\n",
            "          &lt;td&gt;23&lt;/td&gt;\r\n",
            "          &lt;td&gt;24&lt;/td&gt;\r\n",
            "          &lt;td&gt;25&lt;/td&gt;\r\n",
            "          &lt;td&gt;26&lt;/td&gt;\r\n",
            "        &lt;/tr&gt;\r\n",
            "        &lt;tr&gt;\r\n",
            "          &lt;td&gt;27&lt;/td&gt;\r\n",
            "          &lt;td&gt;28&lt;/td&gt;\r\n",
            "          &lt;td&gt;29&lt;/td&gt;\r\n",
            "          &lt;td&gt;30&lt;/td&gt;\r\n",
            "          &lt;td class=\"nil\"&gt;&lt;/td&gt;\r\n",
            "          &lt;td class=\"nil\"&gt;&lt;/td&gt;\r\n",
            "          &lt;td class=\"nil\"&gt;&lt;/td&gt;\r\n",
            "        &lt;/tr&gt;\r\n",
            "      &lt;/tbody&gt;\r\n",
            "    &lt;/table&gt;\r\n",
            "\r\n",
            "  &lt;/div&gt;\r\n",
            "&lt;/div&gt;</code></pre>\r\n",
            "</div>\r\n",
            "</div>\r\n",
            "</p>\n",
            "\n"
          ],
          "name": "stdout"
        }
      ]
    }
  ]
}